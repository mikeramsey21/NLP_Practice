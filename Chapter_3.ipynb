{
 "cells": [
  {
   "cell_type": "code",
   "execution_count": null,
   "metadata": {},
   "outputs": [],
   "source": [
    "\"\"\"\n",
    "Michael Ramsey\n",
    "Date Created: 2/4/19\n",
    "Last Edited: 2/4/19\n",
    "\n",
    "This is a jupyter notebook to practice NLP. The work performed here is from the book:\n",
    "    \"Applied Natural Language Processing with Python : \n",
    "        Implementing Machine Learning and Deep Learning Algorithms for Natural Language Processing\"\n",
    "\"\"\""
   ]
  },
  {
   "cell_type": "code",
   "execution_count": 25,
   "metadata": {},
   "outputs": [],
   "source": [
    "\"\"\"\n",
    "Load necessary packages\n",
    "\"\"\"\n",
    "from nltk.tokenize import word_tokenize, sent_tokenize\n",
    "from nltk.corpus import stopwords\n",
    "from nltk.tokenize import RegexpTokenizer"
   ]
  },
  {
   "cell_type": "code",
   "execution_count": 28,
   "metadata": {},
   "outputs": [],
   "source": [
    "\"\"\"\n",
    "Tokenization and Stop Words\n",
    "\"\"\"\n",
    "\n",
    "# Create a string for the sample text\n",
    "sample_text = \"I am a student from the University of Alabama. I \\\n",
    "was born in Ontario, Canada and I am a huge fan of the United States. \\\n",
    "I am going to get a degree in Philosophy to improve \\\n",
    "my chances of becoming a Philosophy professor. I have been \\\n",
    "working towards this goal for 4 years. I am currently enrolled \\\n",
    "in a PhD program. It is very difficult, but I am confident that \\\n",
    "it will be a good decision\"\n",
    "\n",
    "# Tokenize by word\n",
    "sample_word_tokens = word_tokenize(sample_text)\n",
    "\n",
    "# Tokenize by sentence\n",
    "sample_sent_tokens = sent_tokenize(sample_text)\n",
    "\n",
    "# Generate stop words, convert to uppercase - might be better to convert to lower\n",
    "stop_words = [word.upper() for word in stopwords.words('english')]\n",
    "\n",
    "# Extract the word tokens that are not in the list of uppercase stop words\n",
    "word_tokens = [word for word in sample_word_tokens if word.upper() not in stop_words]\n",
    "\n",
    "# Remove gramatical characters\n",
    "tokenizer = RegexpTokenizer(r'\\w+')\n",
    "word_tokens = tokenizer.tokenize(str(word_tokens))\n",
    "word_tokens = [word.lower() for word in word_tokens]"
   ]
  },
  {
   "cell_type": "code",
   "execution_count": 30,
   "metadata": {},
   "outputs": [
    {
     "data": {
      "text/plain": [
       "'\\nThe Bag-of-Words Model (BoW)\\n'"
      ]
     },
     "execution_count": 30,
     "metadata": {},
     "output_type": "execute_result"
    }
   ],
   "source": [
    "\"\"\"\n",
    "The Bag-of-Words Model (BoW)\n",
    "\"\"\"\n",
    "\n"
   ]
  },
  {
   "cell_type": "code",
   "execution_count": null,
   "metadata": {},
   "outputs": [],
   "source": []
  }
 ],
 "metadata": {
  "kernelspec": {
   "display_name": "Python 3",
   "language": "python",
   "name": "python3"
  },
  "language_info": {
   "codemirror_mode": {
    "name": "ipython",
    "version": 3
   },
   "file_extension": ".py",
   "mimetype": "text/x-python",
   "name": "python",
   "nbconvert_exporter": "python",
   "pygments_lexer": "ipython3",
   "version": "3.6.5"
  }
 },
 "nbformat": 4,
 "nbformat_minor": 2
}
