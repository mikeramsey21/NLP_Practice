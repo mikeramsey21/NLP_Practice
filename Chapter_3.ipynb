{
 "cells": [
  {
   "cell_type": "code",
   "execution_count": null,
   "metadata": {},
   "outputs": [],
   "source": [
    "\"\"\"\n",
    "Michael Ramsey\n",
    "Date Created: 2/4/19\n",
    "Last Edited: 2/4/19\n",
    "\n",
    "This is a jupyter notebook to practice NLP. The work performed here is from the book:\n",
    "    \"Applied Natural Language Processing with Python : \n",
    "        Implementing Machine Learning and Deep Learning Algorithms for Natural Language Processing\"\n",
    "\"\"\""
   ]
  },
  {
   "cell_type": "code",
   "execution_count": 25,
   "metadata": {},
   "outputs": [],
   "source": [
    "\"\"\"\n",
    "Load necessary packages\n",
    "\"\"\"\n",
    "from nltk.tokenize import word_tokenize, sent_tokenize\n",
    "from nltk.corpus import stopwords\n",
    "from nltk.tokenize import RegexpTokenizer"
   ]
  },
  {
   "cell_type": "code",
   "execution_count": 28,
   "metadata": {},
   "outputs": [],
   "source": [
    "\"\"\"\n",
    "Tokenization and Stop Words\n",
    "\"\"\"\n",
    "\n",
    "# Create a string for the sample text\n",
    "sample_text = \"I am a student from the University of Alabama. I \\\n",
    "was born in Ontario, Canada and I am a huge fan of the United States. \\\n",
    "I am going to get a degree in Philosophy to improve \\\n",
    "my chances of becoming a Philosophy professor. I have been \\\n",
    "working towards this goal for 4 years. I am currently enrolled \\\n",
    "in a PhD program. It is very difficult, but I am confident that \\\n",
    "it will be a good decision\"\n",
    "\n",
    "# Tokenize by word\n",
    "sample_word_tokens = word_tokenize(sample_text)\n",
    "\n",
    "# Tokenize by sentence\n",
    "sample_sent_tokens = sent_tokenize(sample_text)\n",
    "\n",
    "# Generate stop words, convert to uppercase - might be better to convert to lower\n",
    "stop_words = [word.upper() for word in stopwords.words('english')]\n",
    "\n",
    "# Extract the word tokens that are not in the list of uppercase stop words\n",
    "word_tokens = [word for word in sample_word_tokens if word.upper() not in stop_words]\n",
    "\n",
    "# Remove gramatical characters\n",
    "tokenizer = RegexpTokenizer(r'\\w+')\n",
    "word_tokens = tokenizer.tokenize(str(word_tokens))\n",
    "word_tokens = [word.lower() for word in word_tokens]"
   ]
  },
  {
   "cell_type": "code",
   "execution_count": 32,
   "metadata": {},
   "outputs": [
    {
     "data": {
      "text/plain": [
       "{'student': 1,\n",
       " 'university': 1,\n",
       " 'alabama': 1,\n",
       " 'born': 1,\n",
       " 'ontario': 1,\n",
       " 'canada': 1,\n",
       " 'huge': 1,\n",
       " 'fan': 1,\n",
       " 'united': 1,\n",
       " 'states': 1,\n",
       " 'going': 1,\n",
       " 'get': 1,\n",
       " 'degree': 1,\n",
       " 'philosophy': 2,\n",
       " 'improve': 1,\n",
       " 'chances': 1,\n",
       " 'becoming': 1,\n",
       " 'professor': 1,\n",
       " 'working': 1,\n",
       " 'towards': 1,\n",
       " 'goal': 1,\n",
       " '4': 1,\n",
       " 'years': 1,\n",
       " 'currently': 1,\n",
       " 'enrolled': 1,\n",
       " 'phd': 1,\n",
       " 'program': 1,\n",
       " 'difficult': 1,\n",
       " 'confident': 1,\n",
       " 'good': 1,\n",
       " 'decision': 1}"
      ]
     },
     "execution_count": 32,
     "metadata": {},
     "output_type": "execute_result"
    }
   ],
   "source": [
    "\"\"\"\n",
    "The Bag-of-Words Model (BoW)\n",
    "\"\"\"\n",
    "\n",
    "# Create function for the bag of words model\n",
    "def bag_of_words(word_list):\n",
    "    \"\"\"\n",
    "    Function to compute the bag-of-words model on a list of words\n",
    "    \n",
    "    INPUTS:\n",
    "    word_list: A list of strings (words)\n",
    "    \n",
    "    OUTPUTS:\n",
    "    word_dict: A dictionary with each key representing a unique word\n",
    "               and the vaue corresponding to the number of words\n",
    "    \"\"\"\n",
    "    \n",
    "    # Initialize word dictionary\n",
    "    word_dict = {}\n",
    "    \n",
    "    # Loop through list of words\n",
    "    for word in word_list:\n",
    "        if word in word_dict.keys():\n",
    "            word_dict[word] += 1\n",
    "        else:\n",
    "            word_dict[word] = 1\n",
    "            \n",
    "    # Return the word dictionary\n",
    "    return word_dict\n",
    "\n",
    "# Implement bag of words model\n",
    "word_tokens_bow = bag_of_words(word_tokens)\n",
    "word_tokens_bow"
   ]
  },
  {
   "cell_type": "code",
   "execution_count": null,
   "metadata": {},
   "outputs": [],
   "source": [
    "# Implemen"
   ]
  }
 ],
 "metadata": {
  "kernelspec": {
   "display_name": "Python 3",
   "language": "python",
   "name": "python3"
  },
  "language_info": {
   "codemirror_mode": {
    "name": "ipython",
    "version": 3
   },
   "file_extension": ".py",
   "mimetype": "text/x-python",
   "name": "python",
   "nbconvert_exporter": "python",
   "pygments_lexer": "ipython3",
   "version": "3.6.5"
  }
 },
 "nbformat": 4,
 "nbformat_minor": 2
}
