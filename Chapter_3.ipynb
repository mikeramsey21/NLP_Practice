{
 "cells": [
  {
   "cell_type": "code",
   "execution_count": null,
   "metadata": {},
   "outputs": [],
   "source": [
    "\"\"\"\n",
    "Michael Ramsey\n",
    "Date Created: 2/4/19\n",
    "Last Edited: 2/4/19\n",
    "\n",
    "This is a jupyter notebook to practice NLP. The work performed here is from the book:\n",
    "\"Applied Natural Language Processing with Python : \n",
    "    Implementing Machine Learning and Deep Learning Algorithms for Natural Language Processing\"\n",
    "    \n",
    "Goals for this Chapter:\n",
    "    1. Learn how to process strings\n",
    "    2. Document classification\n",
    "    \n",
    "Summary:\n",
    "    1. There is no reason to use a neural net when a simple method will suffice.\n",
    "    2. The bag-of-words model typically is only used with document classificaiton.\n",
    "    3. Might be good to try this model before a neural net.\n",
    "\"\"\""
   ]
  },
  {
   "cell_type": "code",
   "execution_count": 34,
   "metadata": {},
   "outputs": [],
   "source": [
    "\"\"\"\n",
    "Load necessary packages\n",
    "\"\"\"\n",
    "from nltk.tokenize import word_tokenize, sent_tokenize\n",
    "from nltk.corpus import stopwords\n",
    "from nltk.tokenize import RegexpTokenizer\n",
    "from sklearn.feature_extraction.text import CountVectorizer"
   ]
  },
  {
   "cell_type": "code",
   "execution_count": 28,
   "metadata": {},
   "outputs": [],
   "source": [
    "\"\"\"\n",
    "Tokenization and Stop Words\n",
    "\"\"\"\n",
    "\n",
    "# Create a string for the sample text\n",
    "sample_text = \"I am a student from the University of Alabama. I \\\n",
    "was born in Ontario, Canada and I am a huge fan of the United States. \\\n",
    "I am going to get a degree in Philosophy to improve \\\n",
    "my chances of becoming a Philosophy professor. I have been \\\n",
    "working towards this goal for 4 years. I am currently enrolled \\\n",
    "in a PhD program. It is very difficult, but I am confident that \\\n",
    "it will be a good decision\"\n",
    "\n",
    "# Tokenize by word\n",
    "sample_word_tokens = word_tokenize(sample_text)\n",
    "\n",
    "# Tokenize by sentence\n",
    "sample_sent_tokens = sent_tokenize(sample_text)\n",
    "\n",
    "# Generate stop words, convert to uppercase - might be better to convert to lower\n",
    "stop_words = [word.upper() for word in stopwords.words('english')]\n",
    "\n",
    "# Extract the word tokens that are not in the list of uppercase stop words\n",
    "word_tokens = [word for word in sample_word_tokens if word.upper() not in stop_words]\n",
    "\n",
    "# Remove gramatical characters\n",
    "tokenizer = RegexpTokenizer(r'\\w+')\n",
    "word_tokens = tokenizer.tokenize(str(word_tokens))\n",
    "word_tokens = [word.lower() for word in word_tokens]"
   ]
  },
  {
   "cell_type": "code",
   "execution_count": 33,
   "metadata": {},
   "outputs": [],
   "source": [
    "\"\"\"\n",
    "The Bag-of-Words Model (BoW)\n",
    "\"\"\"\n",
    "\n",
    "# Create function for the bag of words model\n",
    "def bag_of_words(word_list):\n",
    "    \"\"\"\n",
    "    Function to compute the bag-of-words model on a list of words\n",
    "    \n",
    "    INPUTS:\n",
    "    word_list: A list of strings (words)\n",
    "    \n",
    "    OUTPUTS:\n",
    "    word_dict: A dictionary with each key representing a unique word\n",
    "               and the vaue corresponding to the number of words\n",
    "    \"\"\"\n",
    "    \n",
    "    # Initialize word dictionary\n",
    "    word_dict = {}\n",
    "    \n",
    "    # Loop through list of words\n",
    "    for word in word_list:\n",
    "        if word in word_dict.keys():\n",
    "            word_dict[word] += 1\n",
    "        else:\n",
    "            word_dict[word] = 1\n",
    "            \n",
    "    # Return the word dictionary\n",
    "    return word_dict\n",
    "\n",
    "# Implement bag of words model\n",
    "word_tokens_bow = bag_of_words(word_tokens)"
   ]
  },
  {
   "cell_type": "code",
   "execution_count": 40,
   "metadata": {},
   "outputs": [],
   "source": [
    "\"\"\"\n",
    "COUNTVECTORIZER\n",
    "\"\"\"\n",
    "\n",
    "# Function to process sentence tokens\n",
    "def bow_sklearn(text=sample_sent_tokens):\n",
    "    \n",
    "    # Generate CountVectorizer instance\n",
    "    # Arguments remove stop words and grammar tokents\n",
    "    c = CountVectorizer(stop_words='english', token_pattern=r'\\w+')\n",
    "    \n",
    "    # Fit model to text\n",
    "    converted_data = c.fit_transform(text).todense()\n",
    "    \n",
    "    # Return Feature data and the feature names\n",
    "    return converted_data, c.get_feature_names()\n",
    "\n",
    "# Bag of words model on the sentence tokens\n",
    "sent_tokens_bow = bow_sklearn(sample_sent_tokens)"
   ]
  },
  {
   "cell_type": "code",
   "execution_count": null,
   "metadata": {},
   "outputs": [],
   "source": []
  }
 ],
 "metadata": {
  "kernelspec": {
   "display_name": "Python 3",
   "language": "python",
   "name": "python3"
  },
  "language_info": {
   "codemirror_mode": {
    "name": "ipython",
    "version": 3
   },
   "file_extension": ".py",
   "mimetype": "text/x-python",
   "name": "python",
   "nbconvert_exporter": "python",
   "pygments_lexer": "ipython3",
   "version": "3.6.5"
  }
 },
 "nbformat": 4,
 "nbformat_minor": 2
}
